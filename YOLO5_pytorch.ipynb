{
  "nbformat": 4,
  "nbformat_minor": 0,
  "metadata": {
    "colab": {
      "name": "YOLO5 pytorch.ipynb",
      "provenance": []
    },
    "kernelspec": {
      "name": "python3",
      "display_name": "Python 3"
    },
    "language_info": {
      "name": "python"
    }
  },
  "cells": [
    {
      "cell_type": "code",
      "metadata": {
        "id": "5y1oV9EqK6Eu"
      },
      "source": [
        "import torch\n",
        "from PIL import Image\n",
        "import cv2\n",
        "import numpy as np\n"
      ],
      "execution_count": null,
      "outputs": []
    },
    {
      "cell_type": "code",
      "metadata": {
        "id": "w_rIJKQzL4tl"
      },
      "source": [
        "#loading the model from torch hub\n",
        "model = torch.hub.load('ultralytics/yolov5', 'yolov5s')\n"
      ],
      "execution_count": null,
      "outputs": []
    },
    {
      "cell_type": "code",
      "metadata": {
        "id": "oI-jQjw9M3sg"
      },
      "source": [
        "#test on image\n",
        "image = Image.open('test.jpg')"
      ],
      "execution_count": null,
      "outputs": []
    },
    {
      "cell_type": "code",
      "metadata": {
        "id": "LCUKNYwGM5jD"
      },
      "source": [
        "#check result\n",
        "\n",
        "result = model(image)\n",
        "result.save()\n",
        "Image.fromarray(result.render()[0])"
      ],
      "execution_count": null,
      "outputs": []
    },
    {
      "cell_type": "code",
      "metadata": {
        "id": "lfj2YTeKHAaq"
      },
      "source": [
        "#applying yolo on a video file\n",
        "\n",
        "#opening the video \n",
        "cap = cv2.VideoCapture('vid.mp4')\n",
        "\n",
        "if (cap.isOpened() == False):\n",
        "  print(\"Unable to read camera feed\")\n",
        "frame_width = int(cap.get(3))\n",
        "frame_height = int(cap.get(4))\n",
        "\n",
        "#opening output video file\n",
        "out = cv2.VideoWriter('output2.mp4',cv2.VideoWriter_fourcc(*'mp4v'), 60, (frame_width,frame_height))\n",
        "\n",
        "while(True):\n",
        "  ret, frame = cap.read()\n",
        "  if ret == True:\n",
        "    prediction = model(frame)\n",
        "    out.write(prediction.render()[0])\n",
        "    if cv2.waitKey(1) & 0xFF == ord('q'):\n",
        "      break\n",
        "  else:\n",
        "    break \n",
        "\n",
        "cap.release()\n",
        "out.release()\n",
        "\n",
        "cv2.destroyAllWindows()\n"
      ],
      "execution_count": null,
      "outputs": []
    }
  ]
}